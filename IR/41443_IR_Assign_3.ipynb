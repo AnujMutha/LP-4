{
  "cells": [
    {
      "cell_type": "markdown",
      "id": "c9419321",
      "metadata": {
        "id": "c9419321"
      },
      "source": [
        "# Anuj Mutha - 41443"
      ]
    },
    {
      "cell_type": "code",
      "execution_count": 26,
      "id": "0a0440f1",
      "metadata": {
        "id": "0a0440f1"
      },
      "outputs": [],
      "source": [
        "import pandas as pd\n",
        "import numpy as np\n",
        "import sklearn as sk\n",
        "import math \n",
        "import re"
      ]
    },
    {
      "cell_type": "code",
      "execution_count": 27,
      "id": "7e58a973",
      "metadata": {
        "id": "7e58a973"
      },
      "outputs": [],
      "source": [
        "import nltk\n",
        "!pip install textract\n",
        "import docx2txt"
      ]
    },
    {
      "cell_type": "code",
      "execution_count": 28,
      "id": "8a81dee6",
      "metadata": {
        "id": "8a81dee6"
      },
      "outputs": [],
      "source": [
        "my_text = \"Millions of people in India took part in an annual tree planting drive Sunday. More than 250 million saplings were planted in a single day across the country's most-populous state.\""
      ]
    },
    {
      "cell_type": "code",
      "execution_count": 29,
      "id": "f3f8bfcc",
      "metadata": {
        "colab": {
          "base_uri": "https://localhost:8080/",
          "height": 36
        },
        "id": "f3f8bfcc",
        "outputId": "efd9cdf5-8bef-447c-aa09-7dff24f61738"
      },
      "outputs": [
        {
          "output_type": "execute_result",
          "data": {
            "text/plain": [
              "\"Millions of people in India took part in an annual tree planting drive Sunday. More than 250 million saplings were planted in a single day across the country's most-populous state.\""
            ],
            "application/vnd.google.colaboratory.intrinsic+json": {
              "type": "string"
            }
          },
          "metadata": {},
          "execution_count": 29
        }
      ],
      "source": [
        "my_text"
      ]
    },
    {
      "cell_type": "code",
      "execution_count": 30,
      "id": "43bc9eaa",
      "metadata": {
        "id": "43bc9eaa"
      },
      "outputs": [],
      "source": [
        "my_text= re.sub('[^A-Za-z0-9]+', ' ', my_text)"
      ]
    },
    {
      "cell_type": "code",
      "source": [
        "import nltk\n",
        "nltk.download('punkt')"
      ],
      "metadata": {
        "colab": {
          "base_uri": "https://localhost:8080/"
        },
        "id": "CBjMLYEQkdog",
        "outputId": "0397dd30-5bec-4a79-e7c4-8ba574d3b48d"
      },
      "id": "CBjMLYEQkdog",
      "execution_count": 31,
      "outputs": [
        {
          "output_type": "stream",
          "name": "stderr",
          "text": [
            "[nltk_data] Downloading package punkt to /root/nltk_data...\n",
            "[nltk_data]   Package punkt is already up-to-date!\n"
          ]
        },
        {
          "output_type": "execute_result",
          "data": {
            "text/plain": [
              "True"
            ]
          },
          "metadata": {},
          "execution_count": 31
        }
      ]
    },
    {
      "cell_type": "code",
      "execution_count": 32,
      "id": "ec9b4808",
      "metadata": {
        "id": "ec9b4808"
      },
      "outputs": [],
      "source": [
        "from nltk.tokenize import sent_tokenize"
      ]
    },
    {
      "cell_type": "code",
      "execution_count": 33,
      "id": "230de530",
      "metadata": {
        "colab": {
          "base_uri": "https://localhost:8080/"
        },
        "id": "230de530",
        "outputId": "6571b7b8-bcaf-44be-cd61-173439d8eb1f"
      },
      "outputs": [
        {
          "output_type": "stream",
          "name": "stdout",
          "text": [
            "['Millions of people in India took part in an annual tree planting drive Sunday More than 250 million saplings were planted in a single day across the country s most populous state']\n"
          ]
        }
      ],
      "source": [
        "tokenized_text = sent_tokenize(my_text)\n",
        "print(tokenized_text)"
      ]
    },
    {
      "cell_type": "code",
      "execution_count": 34,
      "id": "53fd0fee",
      "metadata": {
        "id": "53fd0fee"
      },
      "outputs": [],
      "source": [
        "from nltk.tokenize import word_tokenize"
      ]
    },
    {
      "cell_type": "code",
      "execution_count": 35,
      "id": "9fe8435b",
      "metadata": {
        "colab": {
          "base_uri": "https://localhost:8080/"
        },
        "id": "9fe8435b",
        "outputId": "7aed213f-0280-480c-c312-7d607ed870f2"
      },
      "outputs": [
        {
          "output_type": "stream",
          "name": "stdout",
          "text": [
            "['Millions', 'of', 'people', 'in', 'India', 'took', 'part', 'in', 'an', 'annual', 'tree', 'planting', 'drive', 'Sunday', 'More', 'than', '250', 'million', 'saplings', 'were', 'planted', 'in', 'a', 'single', 'day', 'across', 'the', 'country', 's', 'most', 'populous', 'state']\n"
          ]
        }
      ],
      "source": [
        "tokenized_word = word_tokenize(my_text)\n",
        "print(tokenized_word)"
      ]
    },
    {
      "cell_type": "code",
      "execution_count": 36,
      "id": "0732b0dc",
      "metadata": {
        "colab": {
          "base_uri": "https://localhost:8080/"
        },
        "id": "0732b0dc",
        "outputId": "b5c9e6eb-6b4f-4b14-fb6e-ee3acf3d2f10"
      },
      "outputs": [
        {
          "output_type": "stream",
          "name": "stderr",
          "text": [
            "[nltk_data] Downloading package stopwords to /root/nltk_data...\n",
            "[nltk_data]   Package stopwords is already up-to-date!\n"
          ]
        }
      ],
      "source": [
        "import re\n",
        "import nltk\n",
        "nltk.download('stopwords')\n",
        "from nltk.corpus import stopwords"
      ]
    },
    {
      "cell_type": "code",
      "execution_count": 37,
      "id": "edb1ba7a",
      "metadata": {
        "colab": {
          "base_uri": "https://localhost:8080/"
        },
        "id": "edb1ba7a",
        "outputId": "8420281b-2256-4519-aaa7-85987b043b3d"
      },
      "outputs": [
        {
          "output_type": "stream",
          "name": "stdout",
          "text": [
            "{\"needn't\", 'of', 'who', 'if', 'an', \"mustn't\", 'yourselves', 'don', \"she's\", 'some', 'aren', \"doesn't\", 'then', 'those', 'more', 'than', 'just', 'and', 'haven', 'for', 'after', 'are', 'here', 'his', 'yours', 'too', \"haven't\", \"weren't\", 'these', 'won', 'own', 'under', 'you', 'my', 'her', 'but', 'how', 'weren', 'do', 'i', 'same', 've', \"it's\", 'did', \"isn't\", 'up', 'him', 'this', 'because', 'wouldn', 'should', \"aren't\", 'the', 'a', 'their', \"hadn't\", 'about', 'wasn', 'herself', 'd', 'hadn', 'hasn', 'ain', 'll', 'be', 'further', 'very', 'been', 'will', 'while', 'themselves', \"should've\", 'what', 'having', 'again', 'your', \"you've\", 'any', 's', \"don't\", 'during', 'why', \"couldn't\", 'on', 'yourself', 'with', 'y', 'off', 'himself', 'only', 'there', \"you'd\", 'itself', 'ours', 'out', 't', 'that', 'at', 'mustn', 'it', \"you're\", 'both', 'against', 'doesn', 'all', 'its', \"won't\", 'am', \"mightn't\", 'isn', 'needn', 'didn', 'such', 'between', 'in', \"didn't\", 'above', 'into', 'over', 'ourselves', 'each', \"hasn't\", 'before', 'ma', 'or', 'no', 'theirs', 'few', 'we', 'where', 'not', 'when', 'whom', 'most', 'our', \"you'll\", 'other', 'which', 'hers', 'has', 'were', 'from', \"shan't\", 'they', 'o', 'below', 'to', 'by', 'can', 'so', 'until', 'me', 'm', 'as', \"shouldn't\", 'them', 'mightn', 'shouldn', 'is', 'through', 'doing', \"wouldn't\", 'had', 'have', 'being', 'she', \"wasn't\", 're', 'once', 'down', 'he', 'nor', 'shan', 'myself', 'was', 'now', 'does', \"that'll\", 'couldn'}\n"
          ]
        }
      ],
      "source": [
        "stop_words = set(stopwords.words(\"english\"))\n",
        "print(stop_words)"
      ]
    },
    {
      "cell_type": "code",
      "execution_count": 38,
      "id": "848baff6",
      "metadata": {
        "colab": {
          "base_uri": "https://localhost:8080/"
        },
        "id": "848baff6",
        "outputId": "31ccac9d-66cb-4908-bc38-8bff9a239e09"
      },
      "outputs": [
        {
          "output_type": "stream",
          "name": "stdout",
          "text": [
            "Tokenized Words:\n",
            " ['Millions', 'of', 'people', 'in', 'India', 'took', 'part', 'in', 'an', 'annual', 'tree', 'planting', 'drive', 'Sunday', 'More', 'than', '250', 'million', 'saplings', 'were', 'planted', 'in', 'a', 'single', 'day', 'across', 'the', 'country', 's', 'most', 'populous', 'state']\n",
            "\n",
            "\n",
            "Filterd Tokens:\n",
            " ['Millions', 'people', 'India', 'took', 'part', 'annual', 'tree', 'planting', 'drive', 'Sunday', 'More', '250', 'million', 'saplings', 'planted', 'single', 'day', 'across', 'country', 'populous', 'state']\n"
          ]
        }
      ],
      "source": [
        "filtered_tokens = []\n",
        "for w in tokenized_word:    \n",
        "    if w not in stop_words:\n",
        "         filtered_tokens.append(w)\n",
        "            \n",
        "print(\"Tokenized Words:\\n\",tokenized_word)\n",
        "print(\"\\n\\nFilterd Tokens:\\n\",filtered_tokens)"
      ]
    },
    {
      "cell_type": "code",
      "execution_count": 39,
      "id": "d77bc3b8",
      "metadata": {
        "id": "d77bc3b8"
      },
      "outputs": [],
      "source": [
        "from nltk.stem import PorterStemmer"
      ]
    },
    {
      "cell_type": "code",
      "execution_count": 40,
      "id": "1ebc04f7",
      "metadata": {
        "colab": {
          "base_uri": "https://localhost:8080/"
        },
        "id": "1ebc04f7",
        "outputId": "a41bd435-7653-4d59-d18a-a1ca072c60ae"
      },
      "outputs": [
        {
          "output_type": "stream",
          "name": "stdout",
          "text": [
            "Filtered Tokens After Removing Punctuations:\n",
            " ['Millions', 'people', 'India', 'took', 'part', 'annual', 'tree', 'planting', 'drive', 'Sunday', 'More', '250', 'million', 'saplings', 'planted', 'single', 'day', 'across', 'country', 'populous', 'state']\n",
            "\n",
            "\n",
            "Stemmed Tokens:\n",
            " ['million', 'peopl', 'india', 'took', 'part', 'annual', 'tree', 'plant', 'drive', 'sunday', 'more', '250', 'million', 'sapl', 'plant', 'singl', 'day', 'across', 'countri', 'popul', 'state']\n"
          ]
        }
      ],
      "source": [
        "ps = PorterStemmer()\n",
        "stemmed_words=[]\n",
        "\n",
        "for w in filtered_tokens:     \n",
        "     stemmed_words.append(ps.stem(w))\n",
        "\n",
        "print(\"Filtered Tokens After Removing Punctuations:\\n\",filtered_tokens)\n",
        "print(\"\\n\\nStemmed Tokens:\\n\",stemmed_words)"
      ]
    }
  ],
  "metadata": {
    "kernelspec": {
      "display_name": "Python 3 (ipykernel)",
      "language": "python",
      "name": "python3"
    },
    "language_info": {
      "codemirror_mode": {
        "name": "ipython",
        "version": 3
      },
      "file_extension": ".py",
      "mimetype": "text/x-python",
      "name": "python",
      "nbconvert_exporter": "python",
      "pygments_lexer": "ipython3",
      "version": "3.9.7"
    },
    "colab": {
      "provenance": []
    }
  },
  "nbformat": 4,
  "nbformat_minor": 5
}