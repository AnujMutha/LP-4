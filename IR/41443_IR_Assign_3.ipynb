{
 "cells": [
  {
   "cell_type": "markdown",
   "id": "c9419321",
   "metadata": {},
   "source": [
    "# Anuj Mutha - 41443"
   ]
  },
  {
   "cell_type": "code",
   "execution_count": 1,
   "id": "0a0440f1",
   "metadata": {},
   "outputs": [],
   "source": [
    "import pandas as pd\n",
    "import numpy as np\n",
    "import sklearn as sk\n",
    "import math \n",
    "import re"
   ]
  },
  {
   "cell_type": "code",
   "execution_count": 2,
   "id": "7e58a973",
   "metadata": {},
   "outputs": [
    {
     "ename": "ModuleNotFoundError",
     "evalue": "No module named 'docx2txt'",
     "output_type": "error",
     "traceback": [
      "\u001b[1;31m---------------------------------------------------------------------------\u001b[0m",
      "\u001b[1;31mModuleNotFoundError\u001b[0m                       Traceback (most recent call last)",
      "\u001b[1;32m~\\AppData\\Local\\Temp/ipykernel_20420/1730863064.py\u001b[0m in \u001b[0;36m<module>\u001b[1;34m\u001b[0m\n\u001b[0;32m      1\u001b[0m \u001b[1;32mimport\u001b[0m \u001b[0mnltk\u001b[0m\u001b[1;33m\u001b[0m\u001b[1;33m\u001b[0m\u001b[0m\n\u001b[1;32m----> 2\u001b[1;33m \u001b[1;32mimport\u001b[0m \u001b[0mdocx2txt\u001b[0m\u001b[1;33m\u001b[0m\u001b[1;33m\u001b[0m\u001b[0m\n\u001b[0m",
      "\u001b[1;31mModuleNotFoundError\u001b[0m: No module named 'docx2txt'"
     ]
    }
   ],
   "source": [
    "import nltk\n",
    "import docx2txt"
   ]
  },
  {
   "cell_type": "code",
   "execution_count": null,
   "id": "8a81dee6",
   "metadata": {},
   "outputs": [],
   "source": [
    "my_text = \"Millions of people in India took part in an annual tree planting drive Sunday. More than 250 million saplings were planted in a single day across the country's most-populous state.\""
   ]
  },
  {
   "cell_type": "code",
   "execution_count": null,
   "id": "f3f8bfcc",
   "metadata": {},
   "outputs": [],
   "source": [
    "my_text"
   ]
  },
  {
   "cell_type": "code",
   "execution_count": null,
   "id": "43bc9eaa",
   "metadata": {},
   "outputs": [],
   "source": [
    "my_text= re.sub('[^A-Za-z0-9]+', ' ', my_text)"
   ]
  },
  {
   "cell_type": "code",
   "execution_count": null,
   "id": "ec9b4808",
   "metadata": {},
   "outputs": [],
   "source": [
    "from nltk.tokenize import sent_tokenize"
   ]
  },
  {
   "cell_type": "code",
   "execution_count": null,
   "id": "230de530",
   "metadata": {},
   "outputs": [],
   "source": [
    "tokenized_text = sent_tokenize(my_text)\n",
    "print(tokenized_text)"
   ]
  },
  {
   "cell_type": "code",
   "execution_count": null,
   "id": "53fd0fee",
   "metadata": {},
   "outputs": [],
   "source": [
    "from nltk.tokenize import word_tokenize"
   ]
  },
  {
   "cell_type": "code",
   "execution_count": null,
   "id": "9fe8435b",
   "metadata": {},
   "outputs": [],
   "source": [
    "tokenized_word = word_tokenize(my_text)\n",
    "print(tokenized_word)"
   ]
  },
  {
   "cell_type": "code",
   "execution_count": null,
   "id": "0732b0dc",
   "metadata": {},
   "outputs": [],
   "source": [
    "from nltk.corpus import stopwords"
   ]
  },
  {
   "cell_type": "code",
   "execution_count": null,
   "id": "edb1ba7a",
   "metadata": {},
   "outputs": [],
   "source": [
    "stop_words = set(stopwords.words(\"english\"))\n",
    "print(stop_words)"
   ]
  },
  {
   "cell_type": "code",
   "execution_count": null,
   "id": "848baff6",
   "metadata": {},
   "outputs": [],
   "source": [
    "filtered_tokens = []\n",
    "for w in tokenized_word:    \n",
    "    if w not in stop_words:\n",
    "         filtered_tokens.append(w)\n",
    "            \n",
    "print(\"Tokenized Words:\\n\",tokenized_word)\n",
    "print(\"\\n\\nFilterd Tokens:\\n\",filtered_tokens)"
   ]
  },
  {
   "cell_type": "code",
   "execution_count": null,
   "id": "d77bc3b8",
   "metadata": {},
   "outputs": [],
   "source": [
    "from nltk.stem import PorterStemmer"
   ]
  },
  {
   "cell_type": "code",
   "execution_count": null,
   "id": "1ebc04f7",
   "metadata": {},
   "outputs": [],
   "source": [
    "ps = PorterStemmer()\n",
    "stemmed_words=[]\n",
    "\n",
    "for w in filtered_tokens:     \n",
    "     stemmed_words.append(ps.stem(w))\n",
    "\n",
    "print(\"Filtered Tokens After Removing Punctuations:\\n\",filtered_tokens)\n",
    "print(\"\\n\\nStemmed Tokens:\\n\",stemmed_words)"
   ]
  },
  {
   "cell_type": "code",
   "execution_count": null,
   "id": "0bfb208c",
   "metadata": {},
   "outputs": [],
   "source": []
  }
 ],
 "metadata": {
  "kernelspec": {
   "display_name": "Python 3 (ipykernel)",
   "language": "python",
   "name": "python3"
  },
  "language_info": {
   "codemirror_mode": {
    "name": "ipython",
    "version": 3
   },
   "file_extension": ".py",
   "mimetype": "text/x-python",
   "name": "python",
   "nbconvert_exporter": "python",
   "pygments_lexer": "ipython3",
   "version": "3.9.7"
  }
 },
 "nbformat": 4,
 "nbformat_minor": 5
}
