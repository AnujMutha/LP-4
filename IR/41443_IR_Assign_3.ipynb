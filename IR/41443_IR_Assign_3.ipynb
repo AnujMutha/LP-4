{
 "cells": [
  {
   "cell_type": "markdown",
   "id": "c9419321",
   "metadata": {},
   "source": [
    "# 41422- Isha Gaikwad IR_ASSIGNMENT3"
   ]
  },
  {
   "cell_type": "code",
   "execution_count": 1,
   "id": "0a0440f1",
   "metadata": {},
   "outputs": [],
   "source": [
    "import pandas as pd\n",
    "import numpy as np\n",
    "import sklearn as sk\n",
    "import math \n",
    "import re"
   ]
  },
  {
   "cell_type": "code",
   "execution_count": 2,
   "id": "7e58a973",
   "metadata": {},
   "outputs": [],
   "source": [
    "import nltk\n",
    "import docx2txt"
   ]
  },
  {
   "cell_type": "code",
   "execution_count": 3,
   "id": "8a81dee6",
   "metadata": {},
   "outputs": [],
   "source": [
    "my_text = \"Millions of people in India took part in an annual tree planting drive Sunday. More than 250 million saplings were planted in a single day across the country's most-populous state.\""
   ]
  },
  {
   "cell_type": "code",
   "execution_count": 4,
   "id": "f3f8bfcc",
   "metadata": {},
   "outputs": [
    {
     "data": {
      "text/plain": [
       "\"Millions of people in India took part in an annual tree planting drive Sunday. More than 250 million saplings were planted in a single day across the country's most-populous state.\""
      ]
     },
     "execution_count": 4,
     "metadata": {},
     "output_type": "execute_result"
    }
   ],
   "source": [
    "my_text"
   ]
  },
  {
   "cell_type": "code",
   "execution_count": 5,
   "id": "43bc9eaa",
   "metadata": {},
   "outputs": [],
   "source": [
    "my_text= re.sub('[^A-Za-z0-9]+', ' ', my_text)"
   ]
  },
  {
   "cell_type": "code",
   "execution_count": 6,
   "id": "ec9b4808",
   "metadata": {},
   "outputs": [],
   "source": [
    "from nltk.tokenize import sent_tokenize"
   ]
  },
  {
   "cell_type": "code",
   "execution_count": 7,
   "id": "230de530",
   "metadata": {},
   "outputs": [
    {
     "name": "stdout",
     "output_type": "stream",
     "text": [
      "['Millions of people in India took part in an annual tree planting drive Sunday More than 250 million saplings were planted in a single day across the country s most populous state']\n"
     ]
    }
   ],
   "source": [
    "tokenized_text = sent_tokenize(my_text)\n",
    "print(tokenized_text)"
   ]
  },
  {
   "cell_type": "code",
   "execution_count": 8,
   "id": "53fd0fee",
   "metadata": {},
   "outputs": [],
   "source": [
    "from nltk.tokenize import word_tokenize"
   ]
  },
  {
   "cell_type": "code",
   "execution_count": 9,
   "id": "9fe8435b",
   "metadata": {},
   "outputs": [
    {
     "name": "stdout",
     "output_type": "stream",
     "text": [
      "['Millions', 'of', 'people', 'in', 'India', 'took', 'part', 'in', 'an', 'annual', 'tree', 'planting', 'drive', 'Sunday', 'More', 'than', '250', 'million', 'saplings', 'were', 'planted', 'in', 'a', 'single', 'day', 'across', 'the', 'country', 's', 'most', 'populous', 'state']\n"
     ]
    }
   ],
   "source": [
    "tokenized_word = word_tokenize(my_text)\n",
    "print(tokenized_word)"
   ]
  },
  {
   "cell_type": "code",
   "execution_count": 11,
   "id": "0732b0dc",
   "metadata": {},
   "outputs": [],
   "source": [
    "from nltk.corpus import stopwords"
   ]
  },
  {
   "cell_type": "code",
   "execution_count": 12,
   "id": "edb1ba7a",
   "metadata": {},
   "outputs": [
    {
     "name": "stdout",
     "output_type": "stream",
     "text": [
      "{'is', 'those', 'can', 'have', 's', 'now', 'what', \"doesn't\", 'how', 'be', 'don', \"needn't\", \"should've\", \"hasn't\", 'the', 'hers', 'hadn', 'above', 'up', 'its', 'just', \"hadn't\", 'mustn', 'these', 'weren', 'while', 'll', \"you'll\", 'other', 'didn', 'under', \"won't\", 'below', 'shouldn', 'did', 'most', 'do', 'having', 'in', 'of', 'themselves', 'isn', 'ma', 'because', 'does', 'theirs', 'between', 'any', 'when', 'only', 'couldn', 'mightn', 'shan', \"don't\", 'my', 'been', 'were', 'own', 'his', 'doing', 'their', 'such', 'whom', 'about', 'her', 'to', 're', 'here', 'them', 'with', 'all', 'm', 'for', 'too', 'that', \"it's\", 'i', 'or', 'same', 'ours', 'into', 'who', 'very', 'so', \"weren't\", 'there', \"aren't\", 'no', 'after', \"she's\", 've', 'further', 'before', 'off', 'was', 'from', 'both', 'a', 'yours', 'doesn', 'myself', 'are', \"couldn't\", 'he', 'ourselves', 'on', \"shouldn't\", 'yourself', 'she', 'an', \"you've\", 'then', 'had', \"mustn't\", 'as', 'ain', \"haven't\", 't', 'being', \"wasn't\", \"isn't\", 'should', \"wouldn't\", 'and', 'few', 'but', 'd', 'him', 'if', 'we', \"didn't\", 'by', 'not', 'himself', 'where', \"you'd\", 'your', 'during', 'down', 'o', 'over', 'through', 'at', 'am', 'hasn', 'haven', 'needn', 'than', \"that'll\", 'itself', 'yourselves', 'each', 'our', 'it', 'nor', \"you're\", 'has', 'won', 'y', 'you', 'me', 'again', 'which', 'some', 'against', 'once', 'will', 'aren', 'out', 'until', 'wasn', 'more', 'why', \"mightn't\", 'wouldn', 'herself', 'this', 'they', \"shan't\"}\n"
     ]
    }
   ],
   "source": [
    "stop_words = set(stopwords.words(\"english\"))\n",
    "print(stop_words)"
   ]
  },
  {
   "cell_type": "code",
   "execution_count": 13,
   "id": "848baff6",
   "metadata": {},
   "outputs": [
    {
     "name": "stdout",
     "output_type": "stream",
     "text": [
      "Tokenized Words:\n",
      " ['Millions', 'of', 'people', 'in', 'India', 'took', 'part', 'in', 'an', 'annual', 'tree', 'planting', 'drive', 'Sunday', 'More', 'than', '250', 'million', 'saplings', 'were', 'planted', 'in', 'a', 'single', 'day', 'across', 'the', 'country', 's', 'most', 'populous', 'state']\n",
      "\n",
      "\n",
      "Filterd Tokens:\n",
      " ['Millions', 'people', 'India', 'took', 'part', 'annual', 'tree', 'planting', 'drive', 'Sunday', 'More', '250', 'million', 'saplings', 'planted', 'single', 'day', 'across', 'country', 'populous', 'state']\n"
     ]
    }
   ],
   "source": [
    "filtered_tokens = []\n",
    "for w in tokenized_word:    \n",
    "    if w not in stop_words:\n",
    "         filtered_tokens.append(w)\n",
    "            \n",
    "print(\"Tokenized Words:\\n\",tokenized_word)\n",
    "print(\"\\n\\nFilterd Tokens:\\n\",filtered_tokens)"
   ]
  },
  {
   "cell_type": "code",
   "execution_count": 14,
   "id": "d77bc3b8",
   "metadata": {},
   "outputs": [],
   "source": [
    "from nltk.stem import PorterStemmer"
   ]
  },
  {
   "cell_type": "code",
   "execution_count": 15,
   "id": "1ebc04f7",
   "metadata": {},
   "outputs": [
    {
     "name": "stdout",
     "output_type": "stream",
     "text": [
      "Filtered Tokens After Removing Punctuations:\n",
      " ['Millions', 'people', 'India', 'took', 'part', 'annual', 'tree', 'planting', 'drive', 'Sunday', 'More', '250', 'million', 'saplings', 'planted', 'single', 'day', 'across', 'country', 'populous', 'state']\n",
      "\n",
      "\n",
      "Stemmed Tokens:\n",
      " ['million', 'peopl', 'india', 'took', 'part', 'annual', 'tree', 'plant', 'drive', 'sunday', 'more', '250', 'million', 'sapl', 'plant', 'singl', 'day', 'across', 'countri', 'popul', 'state']\n"
     ]
    }
   ],
   "source": [
    "ps = PorterStemmer()\n",
    "stemmed_words=[]\n",
    "\n",
    "for w in filtered_tokens:     \n",
    "     stemmed_words.append(ps.stem(w))\n",
    "\n",
    "print(\"Filtered Tokens After Removing Punctuations:\\n\",filtered_tokens)\n",
    "print(\"\\n\\nStemmed Tokens:\\n\",stemmed_words)"
   ]
  },
  {
   "cell_type": "code",
   "execution_count": null,
   "id": "0bfb208c",
   "metadata": {},
   "outputs": [],
   "source": []
  }
 ],
 "metadata": {
  "kernelspec": {
   "display_name": "Python 3 (ipykernel)",
   "language": "python",
   "name": "python3"
  },
  "language_info": {
   "codemirror_mode": {
    "name": "ipython",
    "version": 3
   },
   "file_extension": ".py",
   "mimetype": "text/x-python",
   "name": "python",
   "nbconvert_exporter": "python",
   "pygments_lexer": "ipython3",
   "version": "3.10.6"
  }
 },
 "nbformat": 4,
 "nbformat_minor": 5
}
