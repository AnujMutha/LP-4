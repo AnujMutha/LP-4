{
  "cells": [
    {
      "cell_type": "markdown",
      "id": "314f11e2",
      "metadata": {
        "id": "314f11e2"
      },
      "source": [
        "# Anuj Mutha - 41443"
      ]
    },
    {
      "cell_type": "code",
      "execution_count": 19,
      "id": "26727ebf",
      "metadata": {
        "id": "26727ebf"
      },
      "outputs": [],
      "source": [
        "import xml.dom.minidom"
      ]
    },
    {
      "cell_type": "code",
      "execution_count": 20,
      "id": "982842f6",
      "metadata": {
        "id": "982842f6"
      },
      "outputs": [],
      "source": [
        "def parse():\n",
        "    doc=xml.dom.minidom.parse(\"employee_details.xml\");\n",
        "    print(doc.nodeName)\n",
        "    print(doc.firstChild.tagName)\n"
      ]
    },
    {
      "cell_type": "code",
      "execution_count": 21,
      "id": "1727f072",
      "metadata": {
        "id": "1727f072"
      },
      "outputs": [],
      "source": [
        "def parse1():\n",
        "    doc = xml.dom.minidom.parse(\"emp.xml\");\n",
        "    print (doc.nodeName)\n",
        "    print (doc.firstChild.tagName)\n",
        "    expertise = doc.getElementsByTagName(\"expertise\")\n",
        "    print (\"%d expertise:\" % expertise.length)\n",
        "    for skill in expertise:\n",
        "        print (skill.getAttribute(\"name\"))\n",
        "    newexpertise = doc.createElement(\"expertise\")\n",
        "    newexpertise.setAttribute(\"name\", \"BigData\")\n",
        "    doc.firstChild.appendChild(newexpertise)\n",
        "    print (\" \")\n",
        "    expertise = doc.getElementsByTagName(\"expertise\")\n",
        "    print (\"%d expertise:\" % expertise.length)\n",
        "    for skill in expertise:\n",
        "        print (skill.getAttribute(\"name\"))   \n"
      ]
    },
    {
      "cell_type": "code",
      "execution_count": 22,
      "id": "c82e347e",
      "metadata": {
        "colab": {
          "base_uri": "https://localhost:8080/"
        },
        "id": "c82e347e",
        "outputId": "94d15410-40f9-47c9-92d3-622cc3b64f46"
      },
      "outputs": [
        {
          "output_type": "stream",
          "name": "stdout",
          "text": [
            "#document\n",
            "employee\n",
            "4 expertise:\n",
            "SQl\n",
            "Python\n",
            "Testing\n",
            "Business\n",
            " \n",
            "5 expertise:\n",
            "SQl\n",
            "Python\n",
            "Testing\n",
            "Business\n",
            "BigData\n"
          ]
        }
      ],
      "source": [
        "parse1()"
      ]
    }
  ],
  "metadata": {
    "kernelspec": {
      "display_name": "Python 3 (ipykernel)",
      "language": "python",
      "name": "python3"
    },
    "language_info": {
      "codemirror_mode": {
        "name": "ipython",
        "version": 3
      },
      "file_extension": ".py",
      "mimetype": "text/x-python",
      "name": "python",
      "nbconvert_exporter": "python",
      "pygments_lexer": "ipython3",
      "version": "3.9.7"
    },
    "colab": {
      "provenance": []
    }
  },
  "nbformat": 4,
  "nbformat_minor": 5
}