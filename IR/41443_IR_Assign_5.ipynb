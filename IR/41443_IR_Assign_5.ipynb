{
 "cells": [
  {
   "cell_type": "markdown",
   "id": "314f11e2",
   "metadata": {},
   "source": [
    "# 41422- Isha Gaikwad IR_ASSIGNMENT5"
   ]
  },
  {
   "cell_type": "code",
   "execution_count": null,
   "id": "26727ebf",
   "metadata": {},
   "outputs": [],
   "source": [
    "import xml.dom.minidom"
   ]
  },
  {
   "cell_type": "code",
   "execution_count": 2,
   "id": "982842f6",
   "metadata": {},
   "outputs": [],
   "source": [
    "def parse():\n",
    "    doc=xml.dom.minidom.parse(\"emp.xml\");\n",
    "    print(doc.nodeName)\n",
    "    print(doc.firstChild.tagName)\n"
   ]
  },
  {
   "cell_type": "code",
   "execution_count": 3,
   "id": "575e7e30",
   "metadata": {},
   "outputs": [
    {
     "name": "stdout",
     "output_type": "stream",
     "text": [
      "#document\n",
      "employee\n"
     ]
    }
   ],
   "source": [
    "main()"
   ]
  },
  {
   "cell_type": "code",
   "execution_count": 7,
   "id": "1727f072",
   "metadata": {},
   "outputs": [],
   "source": [
    "def parse1():\n",
    "    doc = xml.dom.minidom.parse(\"emp.xml\");\n",
    "    print (doc.nodeName)\n",
    "    print (doc.firstChild.tagName)\n",
    "    expertise = doc.getElementsByTagName(\"expertise\")\n",
    "    print (\"%d expertise:\" % expertise.length)\n",
    "    for skill in expertise:\n",
    "        print (skill.getAttribute(\"name\"))\n",
    "    newexpertise = doc.createElement(\"expertise\")\n",
    "    newexpertise.setAttribute(\"name\", \"BigData\")\n",
    "    doc.firstChild.appendChild(newexpertise)\n",
    "    print (\" \")\n",
    "    expertise = doc.getElementsByTagName(\"expertise\")\n",
    "    print (\"%d expertise:\" % expertise.length)\n",
    "    for skill in expertise:\n",
    "        print (skill.getAttribute(\"name\"))   \n"
   ]
  },
  {
   "cell_type": "code",
   "execution_count": 8,
   "id": "c82e347e",
   "metadata": {},
   "outputs": [
    {
     "name": "stdout",
     "output_type": "stream",
     "text": [
      "#document\n",
      "employee\n",
      "4 expertise:\n",
      "Java\n",
      "Python\n",
      "AI\n",
      "Data Science\n",
      " \n",
      "5 expertise:\n",
      "Java\n",
      "Python\n",
      "AI\n",
      "Data Science\n",
      "BigData\n"
     ]
    }
   ],
   "source": [
    "parse1()"
   ]
  },
  {
   "cell_type": "code",
   "execution_count": null,
   "id": "647f3055",
   "metadata": {},
   "outputs": [],
   "source": []
  }
 ],
 "metadata": {
  "kernelspec": {
   "display_name": "Python 3 (ipykernel)",
   "language": "python",
   "name": "python3"
  },
  "language_info": {
   "codemirror_mode": {
    "name": "ipython",
    "version": 3
   },
   "file_extension": ".py",
   "mimetype": "text/x-python",
   "name": "python",
   "nbconvert_exporter": "python",
   "pygments_lexer": "ipython3",
   "version": "3.10.6"
  }
 },
 "nbformat": 4,
 "nbformat_minor": 5
}
